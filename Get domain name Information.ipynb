{
 "cells": [
  {
   "cell_type": "code",
   "execution_count": 1,
   "id": "01c837c8",
   "metadata": {},
   "outputs": [
    {
     "name": "stdout",
     "output_type": "stream",
     "text": [
      "Collecting python-whois\n",
      "  Downloading python-whois-0.8.0.tar.gz (109 kB)\n",
      "Requirement already satisfied: future in c:\\users\\marx\\anaconda3\\lib\\site-packages (from python-whois) (0.18.2)\n",
      "Building wheels for collected packages: python-whois\n",
      "  Building wheel for python-whois (setup.py): started\n",
      "  Building wheel for python-whois (setup.py): finished with status 'done'\n",
      "  Created wheel for python-whois: filename=python_whois-0.8.0-py3-none-any.whl size=103263 sha256=515d1a01dc8a519d528406652d16c5d25efc7c03b2313bc3a20816b9940f59b6\n",
      "  Stored in directory: c:\\users\\marx\\appdata\\local\\pip\\cache\\wheels\\e6\\e9\\d3\\1e41a6c95b398de12c5a332ff28805aa44e68aa317ea60266d\n",
      "Successfully built python-whois\n",
      "Installing collected packages: python-whois\n",
      "Successfully installed python-whois-0.8.0\n",
      "Note: you may need to restart the kernel to use updated packages.\n"
     ]
    }
   ],
   "source": [
    "pip install python-whois"
   ]
  },
  {
   "cell_type": "code",
   "execution_count": 4,
   "id": "6b7590e5",
   "metadata": {},
   "outputs": [
    {
     "name": "stdout",
     "output_type": "stream",
     "text": [
      "Enter your Domain : https://www.clcoding.com/\n",
      "domain_name : ['CLCODING.COM', 'clcoding.com']\n",
      "registrar : Google LLC\n",
      "whois_server : whois.google.com\n",
      "referral_url : None\n",
      "updated_date : 2022-04-12 07:43:54\n",
      "creation_date : 2019-04-12 02:05:57\n",
      "expiration_date : 2023-04-12 02:05:57\n",
      "name_servers : ['NS-CLOUD-B1.GOOGLEDOMAINS.COM', 'NS-CLOUD-B2.GOOGLEDOMAINS.COM', 'NS-CLOUD-B3.GOOGLEDOMAINS.COM', 'NS-CLOUD-B4.GOOGLEDOMAINS.COM']\n",
      "status : ['clientTransferProhibited https://icann.org/epp#clientTransferProhibited', 'clientTransferProhibited https://www.icann.org/epp#clientTransferProhibited']\n",
      "emails : registrar-abuse@google.com\n",
      "dnssec : unsigned\n",
      "name : Contact Privacy Inc. Customer 7151571251\n",
      "org : Contact Privacy Inc. Customer 7151571251\n",
      "address : 96 Mowat Ave\n",
      "city : Toronto\n",
      "state : ON\n",
      "registrant_postal_code : M4K 3K1\n",
      "country : CA\n"
     ]
    }
   ],
   "source": [
    "import whois\n",
    "domain = input(\"Enter your Domain : \")\n",
    "domain_info = whois.whois(domain)\n",
    "for key, value in domain_info.items():\n",
    "    print(key, ':', value)"
   ]
  },
  {
   "cell_type": "code",
   "execution_count": null,
   "id": "6d1ab6df",
   "metadata": {},
   "outputs": [],
   "source": []
  }
 ],
 "metadata": {
  "kernelspec": {
   "display_name": "Python 3 (ipykernel)",
   "language": "python",
   "name": "python3"
  },
  "language_info": {
   "codemirror_mode": {
    "name": "ipython",
    "version": 3
   },
   "file_extension": ".py",
   "mimetype": "text/x-python",
   "name": "python",
   "nbconvert_exporter": "python",
   "pygments_lexer": "ipython3",
   "version": "3.9.7"
  }
 },
 "nbformat": 4,
 "nbformat_minor": 5
}
